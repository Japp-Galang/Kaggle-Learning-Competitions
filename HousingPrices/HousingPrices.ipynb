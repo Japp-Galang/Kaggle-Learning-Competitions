{
 "cells": [
  {
   "cell_type": "code",
   "execution_count": 7,
   "id": "0fe8d865-37a7-4e81-9174-662b2d5f91a1",
   "metadata": {},
   "outputs": [
    {
     "name": "stderr",
     "output_type": "stream",
     "text": [
      "C:\\Users\\Japp Galang\\AppData\\Local\\Temp\\ipykernel_23912\\2162656668.py:1: DeprecationWarning: \n",
      "Pyarrow will become a required dependency of pandas in the next major release of pandas (pandas 3.0),\n",
      "(to allow more performant data types, such as the Arrow string type, and better interoperability with other libraries)\n",
      "but was not found to be installed on your system.\n",
      "If this would cause problems for you,\n",
      "please provide us feedback at https://github.com/pandas-dev/pandas/issues/54466\n",
      "        \n",
      "  import pandas as pd\n"
     ]
    }
   ],
   "source": [
    "import pandas as pd\n",
    "import numpy as np"
   ]
  },
  {
   "cell_type": "code",
   "execution_count": 12,
   "id": "ca34bc88-1cc5-44a2-9103-4bcf370cc57e",
   "metadata": {},
   "outputs": [],
   "source": [
    "df = pd.read_csv('data/train.csv')"
   ]
  },
  {
   "cell_type": "code",
   "execution_count": 8,
   "id": "f0c63176-db79-4986-af8e-16296963f3dc",
   "metadata": {},
   "outputs": [],
   "source": [
    "test = pd.read_csv('data/test.csv')"
   ]
  },
  {
   "cell_type": "markdown",
   "id": "c02c6daa-4e88-4c5d-a3f9-50fbb3cce31b",
   "metadata": {
    "jp-MarkdownHeadingCollapsed": true
   },
   "source": [
    "# Linear Regression"
   ]
  },
  {
   "cell_type": "code",
   "execution_count": 46,
   "id": "aa455201-5acb-4bd9-b097-29a06c13d7c3",
   "metadata": {},
   "outputs": [],
   "source": [
    "from sklearn.model_selection import train_test_split\n",
    "from sklearn.linear_model import LinearRegression\n",
    "from sklearn.metrics import mean_squared_error\n",
    "from sklearn.preprocessing import Normalizer"
   ]
  },
  {
   "cell_type": "code",
   "execution_count": 47,
   "id": "50969a6d-22cf-46e0-a507-5d06490d169b",
   "metadata": {},
   "outputs": [
    {
     "name": "stdout",
     "output_type": "stream",
     "text": [
      "Mean Squared Error: 1,926,505,154.6171901\n"
     ]
    }
   ],
   "source": [
    "features_used = ['OverallQual', 'GrLivArea', 'GarageCars', 'TotalBsmtSF', '1stFlrSF', 'FullBath', 'YearBuilt']\n",
    "\n",
    "X = df[features_used]\n",
    "y = df['SalePrice']\n",
    "\n",
    "# Splitting the dataset into training and testing sets\n",
    "X_train, X_test, y_train, y_test = train_test_split(X, y, test_size=0.2, random_state=42)\n",
    "\n",
    "# Initialize the normalizer and fit it to the training data\n",
    "scaler = Normalizer()\n",
    "X_train_scaled = scaler.fit_transform(X_train)\n",
    "\n",
    "# Transform the testing data using the same normalizer\n",
    "X_test_scaled = scaler.transform(X_test)\n",
    "\n",
    "# Initialize and fit the linear regression model\n",
    "model = LinearRegression()\n",
    "model.fit(X_train_scaled, y_train)\n",
    "\n",
    "# Make predictions on the testing set\n",
    "y_pred = model.predict(X_test_scaled)\n",
    "\n",
    "# Calculate the mean squared error\n",
    "mse = mean_squared_error(y_test, y_pred)\n",
    "print(\"Mean Squared Error: {:,}\".format(mse))"
   ]
  },
  {
   "cell_type": "code",
   "execution_count": 31,
   "id": "99774fe2-be36-489b-9f7b-f7a019da5c70",
   "metadata": {},
   "outputs": [
    {
     "name": "stderr",
     "output_type": "stream",
     "text": [
      "C:\\Users\\Japp Galang\\AppData\\Local\\Temp\\ipykernel_14388\\4205537846.py:6: SettingWithCopyWarning: \n",
      "A value is trying to be set on a copy of a slice from a DataFrame\n",
      "\n",
      "See the caveats in the documentation: https://pandas.pydata.org/pandas-docs/stable/user_guide/indexing.html#returning-a-view-versus-a-copy\n",
      "  test_x.fillna(column_means, inplace=True)\n",
      "C:\\Users\\Japp Galang\\Documents\\Personal\\Kaggle\\HousingPrices\\housingprices\\Lib\\site-packages\\sklearn\\base.py:486: UserWarning: X has feature names, but LinearRegression was fitted without feature names\n",
      "  warnings.warn(\n"
     ]
    }
   ],
   "source": [
    "test_x = test[features_used]\n",
    "test_ids = test['Id']\n",
    "\n",
    "# imputation\n",
    "column_means = test_x.mean()\n",
    "test_x.fillna(column_means, inplace=True)\n",
    "\n",
    "test_y = model.predict(test_x)\n",
    "\n",
    "results_submission = pd.DataFrame({\n",
    "    'Id': test_ids,\n",
    "    'SalePrice': test_y\n",
    "})\n",
    "\n"
   ]
  },
  {
   "cell_type": "code",
   "execution_count": 32,
   "id": "51be74f9-6999-4da7-83ce-7c026c4c3aa6",
   "metadata": {},
   "outputs": [],
   "source": [
    "results_submission.to_csv('submission.csv', index=False)"
   ]
  },
  {
   "cell_type": "code",
   "execution_count": 25,
   "id": "f08fe395-1ed2-45c5-9487-70a3dc245caa",
   "metadata": {},
   "outputs": [
    {
     "data": {
      "text/plain": [
       "0       1461\n",
       "1       1462\n",
       "2       1463\n",
       "3       1464\n",
       "4       1465\n",
       "        ... \n",
       "1454    2915\n",
       "1455    2916\n",
       "1456    2917\n",
       "1457    2918\n",
       "1458    2919\n",
       "Name: Id, Length: 1459, dtype: int64"
      ]
     },
     "execution_count": 25,
     "metadata": {},
     "output_type": "execute_result"
    }
   ],
   "source": [
    "test_ids"
   ]
  },
  {
   "cell_type": "markdown",
   "id": "15fd46b3-3e75-4d98-a164-dec4c841fb74",
   "metadata": {},
   "source": [
    "# Decision Tree"
   ]
  },
  {
   "cell_type": "code",
   "execution_count": 20,
   "id": "34cbd5e7-6be6-4ae7-9f39-8ed0a27dae8b",
   "metadata": {},
   "outputs": [],
   "source": [
    "from sklearn.model_selection import train_test_split\n",
    "from sklearn.tree import DecisionTreeRegressor\n",
    "from sklearn.metrics import mean_squared_error"
   ]
  },
  {
   "cell_type": "code",
   "execution_count": 40,
   "id": "20821194-4817-4b5a-a0bf-77583cc8019f",
   "metadata": {},
   "outputs": [
    {
     "name": "stdout",
     "output_type": "stream",
     "text": [
      "Mean Squared Error: 1,244,328,070.773658\n"
     ]
    }
   ],
   "source": [
    "features_used = ['OverallQual', 'GrLivArea', 'GarageCars', 'TotalBsmtSF', '1stFlrSF', 'FullBath', 'LotArea']\n",
    "\n",
    "X = df[features_used]\n",
    "y = df['SalePrice']\n",
    "\n",
    "# Splitting the dataset into training and testing sets\n",
    "X_train, X_test, y_train, y_test = train_test_split(X, y, test_size=0.2, random_state=42)\n",
    "\n",
    "regressor = DecisionTreeRegressor(max_depth=8)\n",
    "\n",
    "regressor.fit(X_train, y_train)\n",
    "\n",
    "y_pred = regressor.predict(X_test)\n",
    "\n",
    "mse = mean_squared_error(y_test, y_pred)\n",
    "print(\"Mean Squared Error: {:,}\".format(mse))"
   ]
  },
  {
   "cell_type": "code",
   "execution_count": 18,
   "id": "d910f240-4b95-4e9b-9e48-b13639d15042",
   "metadata": {},
   "outputs": [],
   "source": [
    "test_x = test[features_used]\n",
    "test_ids = test['Id']\n",
    "\n",
    "test_y = regressor.predict(test_x)\n",
    "\n",
    "results_submission = pd.DataFrame({\n",
    "    'Id': test_ids,\n",
    "    'SalePrice': test_y\n",
    "})\n"
   ]
  },
  {
   "cell_type": "code",
   "execution_count": 19,
   "id": "e994f2a8-5f9b-43c8-a4bc-1a7e06d229b7",
   "metadata": {},
   "outputs": [],
   "source": [
    "results_submission.to_csv('submission.csv', index=False)"
   ]
  },
  {
   "cell_type": "markdown",
   "id": "7a2d5e16-7c4d-49c8-9564-4244a8089122",
   "metadata": {},
   "source": [
    "# Random Forrest"
   ]
  },
  {
   "cell_type": "code",
   "execution_count": 42,
   "id": "a8c84eb2-5310-422a-bdf5-9161a984466f",
   "metadata": {},
   "outputs": [],
   "source": [
    "from sklearn.model_selection import train_test_split\n",
    "from sklearn.ensemble import RandomForestRegressor\n",
    "from sklearn.metrics import mean_squared_error"
   ]
  },
  {
   "cell_type": "code",
   "execution_count": 56,
   "id": "4764b921-5324-43f0-acbd-2a65817ef059",
   "metadata": {},
   "outputs": [
    {
     "name": "stdout",
     "output_type": "stream",
     "text": [
      "Mean Squared Error: 860,811,553.5391607\n"
     ]
    }
   ],
   "source": [
    "features_used = ['OverallQual', 'GrLivArea', 'GarageCars', 'TotalBsmtSF', '1stFlrSF', 'FullBath', 'LotArea']\n",
    "\n",
    "X = df[features_used]\n",
    "y = df['SalePrice']\n",
    "\n",
    "# Splitting the dataset into training and testing sets\n",
    "X_train, X_test, y_train, y_test = train_test_split(X, y, test_size=0.2, random_state=42)\n",
    "\n",
    "rf_regressor = RandomForestRegressor(n_estimators=100, max_depth=None, random_state=42)\n",
    "\n",
    "# Train the regressor on the training data\n",
    "rf_regressor.fit(X_train, y_train)\n",
    "\n",
    "# Make predictions on the testing data\n",
    "y_pred = rf_regressor.predict(X_test)\n",
    "\n",
    "# Calculate the mean squared error of the model\n",
    "mse = mean_squared_error(y_test, y_pred)\n",
    "print(\"Mean Squared Error: {:,}\".format(mse))"
   ]
  },
  {
   "cell_type": "code",
   "execution_count": 52,
   "id": "b0f440df-60ce-4a71-a20f-baa8d3c4f3eb",
   "metadata": {},
   "outputs": [],
   "source": [
    "test_x = test[features_used]\n",
    "test_ids = test['Id']\n",
    "\n",
    "test_y = rf_regressor.predict(test_x)\n",
    "\n",
    "results_submission = pd.DataFrame({\n",
    "    'Id': test_ids,\n",
    "    'SalePrice': test_y\n",
    "})\n"
   ]
  },
  {
   "cell_type": "code",
   "execution_count": 53,
   "id": "1e433775-91b7-410b-a35e-10ad67768ce2",
   "metadata": {},
   "outputs": [],
   "source": [
    "results_submission.to_csv('submission.csv', index=False)"
   ]
  },
  {
   "cell_type": "markdown",
   "id": "9aaccc10-0204-4898-8f21-71947a5350ac",
   "metadata": {},
   "source": [
    "# Gradient Boosting"
   ]
  },
  {
   "cell_type": "code",
   "execution_count": 57,
   "id": "c7411b7a-19fc-4877-a241-e6636e6429e1",
   "metadata": {},
   "outputs": [],
   "source": [
    "from sklearn.model_selection import train_test_split\n",
    "from sklearn.ensemble import GradientBoostingRegressor\n",
    "from sklearn.metrics import mean_squared_error"
   ]
  },
  {
   "cell_type": "code",
   "execution_count": 66,
   "id": "e3b616ae-7e8d-4de0-a875-f3ca89847d43",
   "metadata": {},
   "outputs": [
    {
     "name": "stdout",
     "output_type": "stream",
     "text": [
      "Mean Squared Error: 841,242,409.0102681\n"
     ]
    }
   ],
   "source": [
    "features_used = ['OverallQual', 'GrLivArea', 'GarageCars', 'TotalBsmtSF', '1stFlrSF', 'FullBath', 'LotArea']\n",
    "\n",
    "X = df[features_used]\n",
    "y = df['SalePrice']\n",
    "\n",
    "# Splitting the dataset into training and testing sets\n",
    "X_train, X_test, y_train, y_test = train_test_split(X, y, test_size=0.2, random_state=42)\n",
    "\n",
    "gb_regressor = GradientBoostingRegressor(n_estimators=100, max_depth=3, learning_rate=0.1, random_state=42)\n",
    "\n",
    "# Train the regressor on the training data\n",
    "gb_regressor.fit(X_train, y_train)\n",
    "\n",
    "# Make predictions on the testing data\n",
    "y_pred = gb_regressor.predict(X_test)\n",
    "\n",
    "# Calculate the mean squared error of the model\n",
    "mse = mean_squared_error(y_test, y_pred)\n",
    "print(\"Mean Squared Error: {:,}\".format(mse))"
   ]
  },
  {
   "cell_type": "code",
   "execution_count": null,
   "id": "24f0b707-9f4e-41ba-8f7d-134144e5d5e0",
   "metadata": {},
   "outputs": [],
   "source": []
  }
 ],
 "metadata": {
  "kernelspec": {
   "display_name": "Python 3 (ipykernel)",
   "language": "python",
   "name": "python3"
  },
  "language_info": {
   "codemirror_mode": {
    "name": "ipython",
    "version": 3
   },
   "file_extension": ".py",
   "mimetype": "text/x-python",
   "name": "python",
   "nbconvert_exporter": "python",
   "pygments_lexer": "ipython3",
   "version": "3.11.3"
  }
 },
 "nbformat": 4,
 "nbformat_minor": 5
}
